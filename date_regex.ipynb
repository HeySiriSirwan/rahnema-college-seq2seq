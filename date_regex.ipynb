{
 "cells": [
  {
   "cell_type": "code",
   "execution_count": 24,
   "id": "9528d3c2-f0d9-489a-804f-3780a1475863",
   "metadata": {},
   "outputs": [],
   "source": [
    "import re"
   ]
  },
  {
   "cell_type": "code",
   "execution_count": 25,
   "id": "68ba7b6c-22ba-4b5d-9626-64cff53475f3",
   "metadata": {},
   "outputs": [],
   "source": [
    "pattern = r\"\"\"(?:\\d{4}[-/]\\d{2}[-/]\\d{2})\n",
    "| (?:\\d{4}[-/][\\u0621-\\u06CC]+[-/]\\d{2})\n",
    "|(?:(?:(?:بیست|سی)\\s+و\\s+)?[\\u0621-\\u06CC]+\\s+[\\u0600-\\u06FF]+\\s+ماه\\s+سال\\s+\\d{4})\"\"\"\n"
   ]
  },
  {
   "cell_type": "code",
   "execution_count": 26,
   "id": "042c333f-390f-48e1-b740-5be7a2462823",
   "metadata": {},
   "outputs": [],
   "source": [
    "texts = ['۱۴۰۳/۰۶/۲۵'\n",
    ",'۱۴۰۳-۰۶-۰۵'\n",
    ",'بیست و پنجم شهریور ماه سال ۱۴۰۳'\n",
    ",'پانزدهم دی ماه سال ۱۴۰۳'\n",
    ",'یکم مرداد ماه سال ۱۳۲۶']"
   ]
  },
  {
   "cell_type": "code",
   "execution_count": 27,
   "id": "ccb68393-53e6-4fc4-92cc-2dd031154263",
   "metadata": {},
   "outputs": [
    {
     "name": "stdout",
     "output_type": "stream",
     "text": [
      "['۱۴۰۳/۰۶/۲۵']\n",
      "['۱۴۰۳-۰۶-۰۵']\n",
      "['بیست و پنجم شهریور ماه سال ۱۴۰۳']\n",
      "['پانزدهم دی ماه سال ۱۴۰۳']\n",
      "['یکم مرداد ماه سال ۱۳۲۶']\n"
     ]
    }
   ],
   "source": [
    "for t in texts:\n",
    "    print( re.findall(pattern, t, re.VERBOSE))\n"
   ]
  }
 ],
 "metadata": {
  "kernelspec": {
   "display_name": "base",
   "language": "python",
   "name": "python3"
  },
  "language_info": {
   "codemirror_mode": {
    "name": "ipython",
    "version": 3
   },
   "file_extension": ".py",
   "mimetype": "text/x-python",
   "name": "python",
   "nbconvert_exporter": "python",
   "pygments_lexer": "ipython3",
   "version": "3.13.5"
  }
 },
 "nbformat": 4,
 "nbformat_minor": 5
}
