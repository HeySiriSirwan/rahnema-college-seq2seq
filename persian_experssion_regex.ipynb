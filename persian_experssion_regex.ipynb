{
 "cells": [
  {
   "cell_type": "code",
   "execution_count": 4,
   "id": "d6090f44-282a-4157-bb2d-8be64cd45332",
   "metadata": {},
   "outputs": [],
   "source": [
    "import re"
   ]
  },
  {
   "cell_type": "code",
   "execution_count": 5,
   "id": "056510f0-9f15-48e2-b9f2-e51af8dcad3f",
   "metadata": {},
   "outputs": [],
   "source": [
    "pattern = r\"\\([\\u0600-\\u06FF\\.]+\\)\""
   ]
  },
  {
   "cell_type": "code",
   "execution_count": 6,
   "id": "2e3690cb-1a4e-42fb-b9e4-f37ba408bc4f",
   "metadata": {},
   "outputs": [],
   "source": [
    "texts = ['(ص)', '(ره)', '(ق.م)', '(س)']"
   ]
  },
  {
   "cell_type": "code",
   "execution_count": 7,
   "id": "a8770634",
   "metadata": {},
   "outputs": [
    {
     "name": "stdout",
     "output_type": "stream",
     "text": [
      "['(ص)']\n",
      "['(ره)']\n",
      "['(ق.م)']\n",
      "['(س)']\n"
     ]
    }
   ],
   "source": [
    "for t in texts:\n",
    "    print(re.findall(pattern, t , re.VERBOSE))"
   ]
  }
 ],
 "metadata": {
  "kernelspec": {
   "display_name": "base",
   "language": "python",
   "name": "python3"
  },
  "language_info": {
   "codemirror_mode": {
    "name": "ipython",
    "version": 3
   },
   "file_extension": ".py",
   "mimetype": "text/x-python",
   "name": "python",
   "nbconvert_exporter": "python",
   "pygments_lexer": "ipython3",
   "version": "3.13.5"
  }
 },
 "nbformat": 4,
 "nbformat_minor": 5
}
