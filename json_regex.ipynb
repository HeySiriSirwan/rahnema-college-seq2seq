{
 "cells": [
  {
   "cell_type": "code",
   "execution_count": 5,
   "id": "22ff2559",
   "metadata": {},
   "outputs": [],
   "source": [
    "import regex"
   ]
  },
  {
   "cell_type": "code",
   "execution_count": 6,
   "id": "71090923",
   "metadata": {},
   "outputs": [],
   "source": [
    "pattern = r\"\\{(?:[^{}]*|(?R))*\\}\""
   ]
  },
  {
   "cell_type": "code",
   "execution_count": 7,
   "id": "89f6ae6a",
   "metadata": {},
   "outputs": [],
   "source": [
    "html = \"\"\"\n",
    "<!doctype html>\n",
    "<html>\n",
    "<head>\n",
    "  <meta charset=\"utf-8\">\n",
    "  <title>Product page</title>\n",
    "\n",
    "  <script type=\"application/ld+json\" id=\"product-ld\">\n",
    "  {\n",
    "    \"@context\": \"https://schema.org/\",\n",
    "    \"@type\": \"Product\",\n",
    "    \"name\": \"Noise-Cancelling Headphones\",\n",
    "    \"sku\": \"NC-12345\",\n",
    "    \"brand\": {\n",
    "      \"@type\": \"Brand\",\n",
    "      \"name\": \"Acme Audio\"\n",
    "    },\n",
    "    \"offers\": {\n",
    "      \"@type\": \"Offer\",\n",
    "      \"priceCurrency\": \"USD\",\n",
    "      \"price\": \"199.99\",\n",
    "      \"availability\": \"https://schema.org/InStock\"\n",
    "    }\n",
    "  }\n",
    "  </script>\n",
    "</head>\n",
    "<body>\n",
    "  <h1>Noise-Cancelling Headphones</h1>\n",
    "</body>\n",
    "</html>\n",
    "\"\"\"\n",
    "\n"
   ]
  },
  {
   "cell_type": "code",
   "execution_count": 8,
   "id": "344d79c7",
   "metadata": {},
   "outputs": [
    {
     "name": "stdout",
     "output_type": "stream",
     "text": [
      "['{\\n    \"@context\": \"https://schema.org/\",\\n    \"@type\": \"Product\",\\n    \"name\": \"Noise-Cancelling Headphones\",\\n    \"sku\": \"NC-12345\",\\n    \"brand\": {\\n      \"@type\": \"Brand\",\\n      \"name\": \"Acme Audio\"\\n    },\\n    \"offers\": {\\n      \"@type\": \"Offer\",\\n      \"priceCurrency\": \"USD\",\\n      \"price\": \"199.99\",\\n      \"availability\": \"https://schema.org/InStock\"\\n    }\\n  }']\n"
     ]
    }
   ],
   "source": [
    "print(regex.findall(pattern, html))"
   ]
  }
 ],
 "metadata": {
  "kernelspec": {
   "display_name": "base",
   "language": "python",
   "name": "python3"
  },
  "language_info": {
   "codemirror_mode": {
    "name": "ipython",
    "version": 3
   },
   "file_extension": ".py",
   "mimetype": "text/x-python",
   "name": "python",
   "nbconvert_exporter": "python",
   "pygments_lexer": "ipython3",
   "version": "3.13.5"
  }
 },
 "nbformat": 4,
 "nbformat_minor": 5
}
