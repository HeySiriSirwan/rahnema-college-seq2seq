{
 "cells": [
  {
   "cell_type": "code",
   "execution_count": 17,
   "id": "7e6a01da",
   "metadata": {},
   "outputs": [],
   "source": [
    "import re"
   ]
  },
  {
   "cell_type": "code",
   "execution_count": 18,
   "id": "d3bea1c5",
   "metadata": {},
   "outputs": [],
   "source": [
    "pattern = r'<\\s*(\\w+)[^>]*\\sid\\s*=\\s*[\"\\']([^\"\\']+)[\"\\']'"
   ]
  },
  {
   "cell_type": "code",
   "execution_count": 19,
   "id": "e4f2a48a",
   "metadata": {},
   "outputs": [],
   "source": [
    "html = ['<div id=\"div1\"></> ','<span id=\"1dhs\"> </span> ']"
   ]
  },
  {
   "cell_type": "code",
   "execution_count": 20,
   "id": "7e5a59f7",
   "metadata": {},
   "outputs": [
    {
     "name": "stdout",
     "output_type": "stream",
     "text": [
      "Tag: div, ID: div1\n",
      "Tag: span, ID: 1dhs\n"
     ]
    }
   ],
   "source": [
    "for h in html:\n",
    "    matches = re.findall(pattern, h)\n",
    "    for tag, element_id in matches:\n",
    "        print(f\"Tag: {tag}, ID: {element_id}\")"
   ]
  }
 ],
 "metadata": {
  "kernelspec": {
   "display_name": "base",
   "language": "python",
   "name": "python3"
  },
  "language_info": {
   "codemirror_mode": {
    "name": "ipython",
    "version": 3
   },
   "file_extension": ".py",
   "mimetype": "text/x-python",
   "name": "python",
   "nbconvert_exporter": "python",
   "pygments_lexer": "ipython3",
   "version": "3.13.5"
  }
 },
 "nbformat": 4,
 "nbformat_minor": 5
}
